{
  "cells": [
    {
      "cell_type": "markdown",
      "metadata": {
        "id": "X80i_girFR2o"
      },
      "source": [
        "##### Copyright 2022 The TensorFlow Authors."
      ]
    },
    {
      "cell_type": "code",
      "execution_count": null,
      "metadata": {
        "cellView": "form",
        "id": "bB8gHCR3FVC0"
      },
      "outputs": [],
      "source": [
        "#@title Licensed under the Apache License, Version 2.0 (the \"License\");\n",
        "# you may not use this file except in compliance with the License.\n",
        "# You may obtain a copy of the License at\n",
        "#\n",
        "# https://www.apache.org/licenses/LICENSE-2.0\n",
        "#\n",
        "# Unless required by applicable law or agreed to in writing, software\n",
        "# distributed under the License is distributed on an \"AS IS\" BASIS,\n",
        "# WITHOUT WARRANTIES OR CONDITIONS OF ANY KIND, either express or implied.\n",
        "# See the License for the specific language governing permissions and\n",
        "# limitations under the License."
      ]
    },
    {
      "cell_type": "markdown",
      "metadata": {
        "id": "kCeYA79m1DEX"
      },
      "source": [
        "# Recommending movies: ranking\n",
        "\n",
        "This tutorial is a slightly adapted version of the [basic ranking tutorial](https://www.tensorflow.org/recommenders/examples/basic_ranking) from TensorFlow Recommenders documentation."
      ]
    },
    {
      "cell_type": "markdown",
      "metadata": {
        "id": "gf2jMHkZQYB5"
      },
      "source": [
        "\n",
        "\n",
        "## Imports\n",
        "\n",
        "\n",
        "Let's first get our imports out of the way."
      ]
    },
    {
      "cell_type": "code",
      "execution_count": 1,
      "metadata": {
        "id": "9gG3jLOGbaUv"
      },
      "outputs": [],
      "source": [
        "!pip install -q tensorflow-recommenders\n",
        "!pip install -q --upgrade tensorflow-datasets"
      ]
    },
    {
      "cell_type": "code",
      "execution_count": 16,
      "metadata": {
        "id": "SZGYDaF-m5wZ"
      },
      "outputs": [],
      "source": [
        "import os\n",
        "import pprint\n",
        "import tempfile\n",
        "import datetime\n",
        "\n",
        "from typing import Dict, Text\n",
        "\n",
        "import numpy as np\n",
        "import tensorflow as tf\n",
        "import tensorflow_datasets as tfds\n",
        "import tensorflow_recommenders as tfrs"
      ]
    },
    {
      "cell_type": "markdown",
      "metadata": {
        "id": "5PAqjR4a1RR4"
      },
      "source": [
        "## Preparing the dataset\n",
        "\n",
        "We're continuing to use the MovieLens dataset. This time, we're also going to keep the ratings: these are the objectives we are trying to predict."
      ]
    },
    {
      "cell_type": "code",
      "execution_count": 3,
      "metadata": {
        "id": "aaQhqcLGP0jL"
      },
      "outputs": [],
      "source": [
        "ratings = tfds.load(\"movielens/100k-ratings\", split=\"train\")\n",
        "\n",
        "ratings = ratings.map(lambda x: {\n",
        "    \"movie_title\": x[\"movie_title\"],\n",
        "    \"user_id\": x[\"user_id\"],\n",
        "    \"user_rating\": x[\"user_rating\"]\n",
        "})"
      ]
    },
    {
      "cell_type": "markdown",
      "metadata": {
        "id": "Iu4XSa_G1nyN"
      },
      "source": [
        "We'll split the data by putting 80% of the ratings in the train set, and 20% in the test set."
      ]
    },
    {
      "cell_type": "code",
      "execution_count": 4,
      "metadata": {
        "id": "rS0eDfkjnjJL"
      },
      "outputs": [],
      "source": [
        "tf.random.set_seed(42)\n",
        "shuffled = ratings.shuffle(100_000, seed=42, reshuffle_each_iteration=False)\n",
        "\n",
        "train = shuffled.take(80_000)\n",
        "test = shuffled.skip(80_000).take(20_000)"
      ]
    },
    {
      "cell_type": "markdown",
      "metadata": {
        "id": "gVi1HJfR9D7H"
      },
      "source": [
        "Next we figure out unique user ids and movie titles present in the data so that we can create the embedding user and movie embedding tables."
      ]
    },
    {
      "cell_type": "code",
      "execution_count": 5,
      "metadata": {
        "id": "MKROCiPo_5LJ"
      },
      "outputs": [],
      "source": [
        "movie_titles = ratings.batch(1_000_000).map(lambda x: x[\"movie_title\"])\n",
        "user_ids = ratings.batch(1_000_000).map(lambda x: x[\"user_id\"])\n",
        "\n",
        "unique_movie_titles = np.unique(np.concatenate(list(movie_titles)))\n",
        "unique_user_ids = np.unique(np.concatenate(list(user_ids)))"
      ]
    },
    {
      "cell_type": "markdown",
      "metadata": {
        "id": "4-Vj9nHb48pn"
      },
      "source": [
        "## Implementing a model"
      ]
    },
    {
      "cell_type": "markdown",
      "metadata": {
        "id": "eCi-seR86qqa"
      },
      "source": [
        "### Architecture\n",
        "\n",
        "Ranking models do not face the same efficiency constraints as retrieval models do, and so we have a little bit more freedom in our choice of architectures. We can implement our ranking model as follows:"
      ]
    },
    {
      "cell_type": "code",
      "execution_count": 6,
      "metadata": {
        "id": "fAk0y0Yf1eGh"
      },
      "outputs": [],
      "source": [
        "class RankingModel(tf.keras.Model):\n",
        "\n",
        "  def __init__(self):\n",
        "    super().__init__()\n",
        "    embedding_dimension = 32\n",
        "\n",
        "    # Compute embeddings for users.\n",
        "    self.user_embeddings = tf.keras.Sequential([\n",
        "      tf.keras.layers.StringLookup(\n",
        "        vocabulary=unique_user_ids, mask_token=None),\n",
        "      tf.keras.layers.Embedding(len(unique_user_ids) + 1, embedding_dimension)\n",
        "    ])\n",
        "\n",
        "    # Compute embeddings for movies.\n",
        "    self.movie_embeddings = tf.keras.Sequential([\n",
        "      tf.keras.layers.StringLookup(\n",
        "        vocabulary=unique_movie_titles, mask_token=None),\n",
        "      tf.keras.layers.Embedding(len(unique_movie_titles) + 1, embedding_dimension)\n",
        "    ])\n",
        "\n",
        "    # Compute predictions.\n",
        "    self.ratings = tf.keras.Sequential([\n",
        "      # Learn multiple dense layers.\n",
        "      tf.keras.layers.Dense(256, activation=\"relu\"),\n",
        "      tf.keras.layers.Dense(64, activation=\"relu\"),\n",
        "      # Make rating predictions in the final layer.\n",
        "      tf.keras.layers.Dense(1)\n",
        "  ])\n",
        "    \n",
        "  def call(self, inputs):\n",
        "\n",
        "    user_id, movie_title = inputs\n",
        "\n",
        "    user_embedding = self.user_embeddings(user_id)\n",
        "    movie_embedding = self.movie_embeddings(movie_title)\n",
        "\n",
        "    return self.ratings(tf.concat([user_embedding, movie_embedding], axis=1))"
      ]
    },
    {
      "cell_type": "markdown",
      "metadata": {
        "id": "nCaCqJsXSkCo"
      },
      "source": [
        "### Loss and metrics\n",
        "\n",
        "We'll make use of the `Ranking` task object: a convenience wrapper that bundles together the loss function and metric computation. \n",
        "\n",
        "We'll use it together with the `MeanSquaredError` Keras loss in order to predict the ratings."
      ]
    },
    {
      "cell_type": "code",
      "execution_count": 7,
      "metadata": {
        "id": "tJ61Iz2QTBw3"
      },
      "outputs": [],
      "source": [
        "task = tfrs.tasks.Ranking(\n",
        "  loss = tf.keras.losses.MeanSquaredError(),\n",
        "  metrics=[tf.keras.metrics.RootMeanSquaredError()]\n",
        ")"
      ]
    },
    {
      "cell_type": "markdown",
      "metadata": {
        "id": "FZUFeSlWRHGx"
      },
      "source": [
        "### The full model\n",
        "\n",
        "We can now put it all together into a model."
      ]
    },
    {
      "cell_type": "code",
      "execution_count": 8,
      "metadata": {
        "id": "8n7c5CHFp0ow"
      },
      "outputs": [],
      "source": [
        "class MovielensModel(tfrs.models.Model):\n",
        "\n",
        "  def __init__(self):\n",
        "    super().__init__()\n",
        "    self.ranking_model: tf.keras.Model = RankingModel()\n",
        "    self.task: tf.keras.layers.Layer = tfrs.tasks.Ranking(\n",
        "      loss = tf.keras.losses.MeanSquaredError(),\n",
        "      metrics=[tf.keras.metrics.RootMeanSquaredError()]\n",
        "    )\n",
        "\n",
        "  def call(self, features: Dict[str, tf.Tensor]) -> tf.Tensor:\n",
        "    return self.ranking_model(\n",
        "        (features[\"user_id\"], features[\"movie_title\"]))\n",
        "\n",
        "  def compute_loss(self, features: Dict[Text, tf.Tensor], training=False) -> tf.Tensor:\n",
        "    labels = features.pop(\"user_rating\")\n",
        "    \n",
        "    rating_predictions = self(features)\n",
        "\n",
        "    # The task computes the loss and the metrics.\n",
        "    return self.task(labels=labels, predictions=rating_predictions)"
      ]
    },
    {
      "cell_type": "markdown",
      "metadata": {
        "id": "yDN_LJGlnRGo"
      },
      "source": [
        "## Fitting and evaluating\n",
        "\n",
        "After defining the model, we can use standard Keras fitting and evaluation routines to fit and evaluate the model.\n",
        "\n",
        "Let's first instantiate the model."
      ]
    },
    {
      "cell_type": "code",
      "execution_count": 10,
      "metadata": {
        "id": "aW63YaqP2wCf"
      },
      "outputs": [],
      "source": [
        "model = MovielensModel()\n",
        "model.compile(optimizer=tf.keras.optimizers.legacy.Adagrad(learning_rate=0.1))"
      ]
    },
    {
      "cell_type": "markdown",
      "metadata": {
        "id": "Nma0vc2XdN5g"
      },
      "source": [
        "Then shuffle, batch, and cache the training and evaluation data."
      ]
    },
    {
      "cell_type": "code",
      "execution_count": 11,
      "metadata": {
        "id": "53QJwY1gUnfv"
      },
      "outputs": [],
      "source": [
        "cached_train = train.shuffle(100_000).batch(8192).cache()\n",
        "cached_test = test.batch(4096).cache()"
      ]
    },
    {
      "cell_type": "markdown",
      "metadata": {
        "id": "u8mHTxKAdTJO"
      },
      "source": [
        "Then train the  model:"
      ]
    },
    {
      "cell_type": "code",
      "execution_count": 12,
      "metadata": {},
      "outputs": [],
      "source": [
        "%load_ext tensorboard"
      ]
    },
    {
      "cell_type": "code",
      "execution_count": 22,
      "metadata": {},
      "outputs": [],
      "source": [
        "!rm -rf ./logs/"
      ]
    },
    {
      "cell_type": "code",
      "execution_count": 25,
      "metadata": {},
      "outputs": [],
      "source": [
        "log_dir = \"logs/fit/\" + datetime.datetime.now().strftime(\"%Y%m%d-%H%M%S\")\n",
        "tensorboard_callback = tf.keras.callbacks.TensorBoard(log_dir=log_dir, histogram_freq=1)"
      ]
    },
    {
      "cell_type": "code",
      "execution_count": 18,
      "metadata": {},
      "outputs": [
        {
          "data": {
            "text/html": [
              "\n",
              "      <iframe id=\"tensorboard-frame-e647ecfac15e02de\" width=\"100%\" height=\"800\" frameborder=\"0\">\n",
              "      </iframe>\n",
              "      <script>\n",
              "        (function() {\n",
              "          const frame = document.getElementById(\"tensorboard-frame-e647ecfac15e02de\");\n",
              "          const url = new URL(\"/\", window.location);\n",
              "          const port = 6009;\n",
              "          if (port) {\n",
              "            url.port = port;\n",
              "          }\n",
              "          frame.src = url;\n",
              "        })();\n",
              "      </script>\n",
              "    "
            ],
            "text/plain": [
              "<IPython.core.display.HTML object>"
            ]
          },
          "metadata": {},
          "output_type": "display_data"
        }
      ],
      "source": [
        "%tensorboard --logdir logs/fit"
      ]
    },
    {
      "cell_type": "code",
      "execution_count": 26,
      "metadata": {
        "id": "ZxPntlT8EFOZ"
      },
      "outputs": [
        {
          "name": "stdout",
          "output_type": "stream",
          "text": [
            "Epoch 1/100\n",
            "10/10 [==============================] - 0s 18ms/step - root_mean_squared_error: 0.9099 - loss: 0.8305 - regularization_loss: 0.0000e+00 - total_loss: 0.8305\n",
            "Epoch 2/100\n",
            "10/10 [==============================] - 0s 14ms/step - root_mean_squared_error: 0.9098 - loss: 0.8302 - regularization_loss: 0.0000e+00 - total_loss: 0.8302\n",
            "Epoch 3/100\n",
            "10/10 [==============================] - 0s 14ms/step - root_mean_squared_error: 0.9096 - loss: 0.8299 - regularization_loss: 0.0000e+00 - total_loss: 0.8299\n",
            "Epoch 4/100\n",
            "10/10 [==============================] - 0s 16ms/step - root_mean_squared_error: 0.9094 - loss: 0.8295 - regularization_loss: 0.0000e+00 - total_loss: 0.8295\n",
            "Epoch 5/100\n",
            "10/10 [==============================] - 0s 18ms/step - root_mean_squared_error: 0.9092 - loss: 0.8292 - regularization_loss: 0.0000e+00 - total_loss: 0.8292\n",
            "Epoch 6/100\n",
            "10/10 [==============================] - 0s 14ms/step - root_mean_squared_error: 0.9090 - loss: 0.8288 - regularization_loss: 0.0000e+00 - total_loss: 0.8288\n",
            "Epoch 7/100\n",
            "10/10 [==============================] - 0s 16ms/step - root_mean_squared_error: 0.9089 - loss: 0.8285 - regularization_loss: 0.0000e+00 - total_loss: 0.8285\n",
            "Epoch 8/100\n",
            "10/10 [==============================] - 0s 17ms/step - root_mean_squared_error: 0.9087 - loss: 0.8281 - regularization_loss: 0.0000e+00 - total_loss: 0.8281\n",
            "Epoch 9/100\n",
            "10/10 [==============================] - 0s 19ms/step - root_mean_squared_error: 0.9085 - loss: 0.8277 - regularization_loss: 0.0000e+00 - total_loss: 0.8277\n",
            "Epoch 10/100\n",
            "10/10 [==============================] - 0s 15ms/step - root_mean_squared_error: 0.9083 - loss: 0.8274 - regularization_loss: 0.0000e+00 - total_loss: 0.8274\n",
            "Epoch 11/100\n",
            "10/10 [==============================] - 0s 14ms/step - root_mean_squared_error: 0.9080 - loss: 0.8270 - regularization_loss: 0.0000e+00 - total_loss: 0.8270\n",
            "Epoch 12/100\n",
            "10/10 [==============================] - 0s 16ms/step - root_mean_squared_error: 0.9078 - loss: 0.8266 - regularization_loss: 0.0000e+00 - total_loss: 0.8266\n",
            "Epoch 13/100\n",
            "10/10 [==============================] - 0s 16ms/step - root_mean_squared_error: 0.9076 - loss: 0.8262 - regularization_loss: 0.0000e+00 - total_loss: 0.8262\n",
            "Epoch 14/100\n",
            "10/10 [==============================] - 0s 15ms/step - root_mean_squared_error: 0.9074 - loss: 0.8258 - regularization_loss: 0.0000e+00 - total_loss: 0.8258\n",
            "Epoch 15/100\n",
            "10/10 [==============================] - 0s 15ms/step - root_mean_squared_error: 0.9072 - loss: 0.8254 - regularization_loss: 0.0000e+00 - total_loss: 0.8254\n",
            "Epoch 16/100\n",
            "10/10 [==============================] - 0s 17ms/step - root_mean_squared_error: 0.9069 - loss: 0.8249 - regularization_loss: 0.0000e+00 - total_loss: 0.8249\n",
            "Epoch 17/100\n",
            "10/10 [==============================] - 0s 24ms/step - root_mean_squared_error: 0.9067 - loss: 0.8245 - regularization_loss: 0.0000e+00 - total_loss: 0.8245\n",
            "Epoch 18/100\n",
            "10/10 [==============================] - 0s 23ms/step - root_mean_squared_error: 0.9065 - loss: 0.8241 - regularization_loss: 0.0000e+00 - total_loss: 0.8241\n",
            "Epoch 19/100\n",
            "10/10 [==============================] - 0s 22ms/step - root_mean_squared_error: 0.9063 - loss: 0.8237 - regularization_loss: 0.0000e+00 - total_loss: 0.8237\n",
            "Epoch 20/100\n",
            "10/10 [==============================] - 0s 19ms/step - root_mean_squared_error: 0.9060 - loss: 0.8233 - regularization_loss: 0.0000e+00 - total_loss: 0.8233\n",
            "Epoch 21/100\n",
            "10/10 [==============================] - 0s 31ms/step - root_mean_squared_error: 0.9058 - loss: 0.8229 - regularization_loss: 0.0000e+00 - total_loss: 0.8229\n",
            "Epoch 22/100\n",
            "10/10 [==============================] - 0s 21ms/step - root_mean_squared_error: 0.9056 - loss: 0.8224 - regularization_loss: 0.0000e+00 - total_loss: 0.8224\n",
            "Epoch 23/100\n",
            "10/10 [==============================] - 0s 13ms/step - root_mean_squared_error: 0.9053 - loss: 0.8219 - regularization_loss: 0.0000e+00 - total_loss: 0.8219\n",
            "Epoch 24/100\n",
            "10/10 [==============================] - 0s 13ms/step - root_mean_squared_error: 0.9051 - loss: 0.8215 - regularization_loss: 0.0000e+00 - total_loss: 0.8215\n",
            "Epoch 25/100\n",
            "10/10 [==============================] - 0s 16ms/step - root_mean_squared_error: 0.9048 - loss: 0.8210 - regularization_loss: 0.0000e+00 - total_loss: 0.8210\n",
            "Epoch 26/100\n",
            "10/10 [==============================] - 0s 15ms/step - root_mean_squared_error: 0.9046 - loss: 0.8206 - regularization_loss: 0.0000e+00 - total_loss: 0.8206\n",
            "Epoch 27/100\n",
            "10/10 [==============================] - 0s 15ms/step - root_mean_squared_error: 0.9044 - loss: 0.8202 - regularization_loss: 0.0000e+00 - total_loss: 0.8202\n",
            "Epoch 28/100\n",
            "10/10 [==============================] - 0s 16ms/step - root_mean_squared_error: 0.9042 - loss: 0.8198 - regularization_loss: 0.0000e+00 - total_loss: 0.8198\n",
            "Epoch 29/100\n",
            "10/10 [==============================] - 0s 13ms/step - root_mean_squared_error: 0.9039 - loss: 0.8193 - regularization_loss: 0.0000e+00 - total_loss: 0.8193\n",
            "Epoch 30/100\n",
            "10/10 [==============================] - 0s 15ms/step - root_mean_squared_error: 0.9036 - loss: 0.8188 - regularization_loss: 0.0000e+00 - total_loss: 0.8188\n",
            "Epoch 31/100\n",
            "10/10 [==============================] - 0s 14ms/step - root_mean_squared_error: 0.9033 - loss: 0.8183 - regularization_loss: 0.0000e+00 - total_loss: 0.8183\n",
            "Epoch 32/100\n",
            "10/10 [==============================] - 0s 15ms/step - root_mean_squared_error: 0.9031 - loss: 0.8178 - regularization_loss: 0.0000e+00 - total_loss: 0.8178\n",
            "Epoch 33/100\n",
            "10/10 [==============================] - 0s 13ms/step - root_mean_squared_error: 0.9028 - loss: 0.8173 - regularization_loss: 0.0000e+00 - total_loss: 0.8173\n",
            "Epoch 34/100\n",
            "10/10 [==============================] - 0s 13ms/step - root_mean_squared_error: 0.9025 - loss: 0.8167 - regularization_loss: 0.0000e+00 - total_loss: 0.8167\n",
            "Epoch 35/100\n",
            "10/10 [==============================] - 0s 15ms/step - root_mean_squared_error: 0.9022 - loss: 0.8162 - regularization_loss: 0.0000e+00 - total_loss: 0.8162\n",
            "Epoch 36/100\n",
            "10/10 [==============================] - 0s 14ms/step - root_mean_squared_error: 0.9019 - loss: 0.8157 - regularization_loss: 0.0000e+00 - total_loss: 0.8157\n",
            "Epoch 37/100\n",
            "10/10 [==============================] - 0s 13ms/step - root_mean_squared_error: 0.9017 - loss: 0.8153 - regularization_loss: 0.0000e+00 - total_loss: 0.8153\n",
            "Epoch 38/100\n",
            "10/10 [==============================] - 0s 16ms/step - root_mean_squared_error: 0.9014 - loss: 0.8148 - regularization_loss: 0.0000e+00 - total_loss: 0.8148\n",
            "Epoch 39/100\n",
            "10/10 [==============================] - 0s 18ms/step - root_mean_squared_error: 0.9012 - loss: 0.8143 - regularization_loss: 0.0000e+00 - total_loss: 0.8143\n",
            "Epoch 40/100\n",
            "10/10 [==============================] - 0s 15ms/step - root_mean_squared_error: 0.9010 - loss: 0.8139 - regularization_loss: 0.0000e+00 - total_loss: 0.8139\n",
            "Epoch 41/100\n",
            "10/10 [==============================] - 0s 14ms/step - root_mean_squared_error: 0.9007 - loss: 0.8136 - regularization_loss: 0.0000e+00 - total_loss: 0.8136\n",
            "Epoch 42/100\n",
            "10/10 [==============================] - 0s 16ms/step - root_mean_squared_error: 0.9004 - loss: 0.8129 - regularization_loss: 0.0000e+00 - total_loss: 0.8129\n",
            "Epoch 43/100\n",
            "10/10 [==============================] - 0s 14ms/step - root_mean_squared_error: 0.9001 - loss: 0.8123 - regularization_loss: 0.0000e+00 - total_loss: 0.8123\n",
            "Epoch 44/100\n",
            "10/10 [==============================] - 0s 14ms/step - root_mean_squared_error: 0.8997 - loss: 0.8115 - regularization_loss: 0.0000e+00 - total_loss: 0.8115\n",
            "Epoch 45/100\n",
            "10/10 [==============================] - 0s 14ms/step - root_mean_squared_error: 0.8992 - loss: 0.8107 - regularization_loss: 0.0000e+00 - total_loss: 0.8107\n",
            "Epoch 46/100\n",
            "10/10 [==============================] - 0s 21ms/step - root_mean_squared_error: 0.8989 - loss: 0.8100 - regularization_loss: 0.0000e+00 - total_loss: 0.8100\n",
            "Epoch 47/100\n",
            "10/10 [==============================] - 0s 14ms/step - root_mean_squared_error: 0.8986 - loss: 0.8095 - regularization_loss: 0.0000e+00 - total_loss: 0.8095\n",
            "Epoch 48/100\n",
            "10/10 [==============================] - 0s 17ms/step - root_mean_squared_error: 0.8983 - loss: 0.8091 - regularization_loss: 0.0000e+00 - total_loss: 0.8091\n",
            "Epoch 49/100\n",
            "10/10 [==============================] - 0s 16ms/step - root_mean_squared_error: 0.8981 - loss: 0.8087 - regularization_loss: 0.0000e+00 - total_loss: 0.8087\n",
            "Epoch 50/100\n",
            "10/10 [==============================] - 0s 16ms/step - root_mean_squared_error: 0.8979 - loss: 0.8083 - regularization_loss: 0.0000e+00 - total_loss: 0.8083\n",
            "Epoch 51/100\n",
            "10/10 [==============================] - 0s 14ms/step - root_mean_squared_error: 0.8976 - loss: 0.8076 - regularization_loss: 0.0000e+00 - total_loss: 0.8076\n",
            "Epoch 52/100\n",
            "10/10 [==============================] - 0s 16ms/step - root_mean_squared_error: 0.8972 - loss: 0.8069 - regularization_loss: 0.0000e+00 - total_loss: 0.8069\n",
            "Epoch 53/100\n",
            "10/10 [==============================] - 0s 15ms/step - root_mean_squared_error: 0.8968 - loss: 0.8061 - regularization_loss: 0.0000e+00 - total_loss: 0.8061\n",
            "Epoch 54/100\n",
            "10/10 [==============================] - 0s 15ms/step - root_mean_squared_error: 0.8964 - loss: 0.8054 - regularization_loss: 0.0000e+00 - total_loss: 0.8054\n",
            "Epoch 55/100\n",
            "10/10 [==============================] - 0s 15ms/step - root_mean_squared_error: 0.8961 - loss: 0.8049 - regularization_loss: 0.0000e+00 - total_loss: 0.8049\n",
            "Epoch 56/100\n",
            "10/10 [==============================] - 0s 17ms/step - root_mean_squared_error: 0.8959 - loss: 0.8046 - regularization_loss: 0.0000e+00 - total_loss: 0.8046\n",
            "Epoch 57/100\n",
            "10/10 [==============================] - 0s 19ms/step - root_mean_squared_error: 0.8958 - loss: 0.8045 - regularization_loss: 0.0000e+00 - total_loss: 0.8045\n",
            "Epoch 58/100\n",
            "10/10 [==============================] - 0s 17ms/step - root_mean_squared_error: 0.8958 - loss: 0.8044 - regularization_loss: 0.0000e+00 - total_loss: 0.8044\n",
            "Epoch 59/100\n",
            "10/10 [==============================] - 0s 15ms/step - root_mean_squared_error: 0.8956 - loss: 0.8041 - regularization_loss: 0.0000e+00 - total_loss: 0.8041\n",
            "Epoch 60/100\n",
            "10/10 [==============================] - 0s 29ms/step - root_mean_squared_error: 0.8951 - loss: 0.8031 - regularization_loss: 0.0000e+00 - total_loss: 0.8031\n",
            "Epoch 61/100\n",
            "10/10 [==============================] - 0s 19ms/step - root_mean_squared_error: 0.8944 - loss: 0.8017 - regularization_loss: 0.0000e+00 - total_loss: 0.8017\n",
            "Epoch 62/100\n",
            "10/10 [==============================] - 0s 16ms/step - root_mean_squared_error: 0.8936 - loss: 0.8003 - regularization_loss: 0.0000e+00 - total_loss: 0.8003\n",
            "Epoch 63/100\n",
            "10/10 [==============================] - 0s 15ms/step - root_mean_squared_error: 0.8929 - loss: 0.7990 - regularization_loss: 0.0000e+00 - total_loss: 0.7990\n",
            "Epoch 64/100\n",
            "10/10 [==============================] - 0s 15ms/step - root_mean_squared_error: 0.8924 - loss: 0.7981 - regularization_loss: 0.0000e+00 - total_loss: 0.7981\n",
            "Epoch 65/100\n",
            "10/10 [==============================] - 0s 40ms/step - root_mean_squared_error: 0.8922 - loss: 0.7977 - regularization_loss: 0.0000e+00 - total_loss: 0.7977\n",
            "Epoch 66/100\n",
            "10/10 [==============================] - 0s 20ms/step - root_mean_squared_error: 0.8925 - loss: 0.7984 - regularization_loss: 0.0000e+00 - total_loss: 0.7984\n",
            "Epoch 67/100\n",
            "10/10 [==============================] - 0s 17ms/step - root_mean_squared_error: 0.8937 - loss: 0.8009 - regularization_loss: 0.0000e+00 - total_loss: 0.8009\n",
            "Epoch 68/100\n",
            "10/10 [==============================] - 0s 25ms/step - root_mean_squared_error: 0.8947 - loss: 0.8024 - regularization_loss: 0.0000e+00 - total_loss: 0.8024\n",
            "Epoch 69/100\n",
            "10/10 [==============================] - 0s 19ms/step - root_mean_squared_error: 0.8935 - loss: 0.8000 - regularization_loss: 0.0000e+00 - total_loss: 0.8000\n",
            "Epoch 70/100\n",
            "10/10 [==============================] - 0s 16ms/step - root_mean_squared_error: 0.8916 - loss: 0.7965 - regularization_loss: 0.0000e+00 - total_loss: 0.7965\n",
            "Epoch 71/100\n",
            "10/10 [==============================] - 0s 19ms/step - root_mean_squared_error: 0.8902 - loss: 0.7940 - regularization_loss: 0.0000e+00 - total_loss: 0.7940\n",
            "Epoch 72/100\n",
            "10/10 [==============================] - 0s 17ms/step - root_mean_squared_error: 0.8893 - loss: 0.7922 - regularization_loss: 0.0000e+00 - total_loss: 0.7922\n",
            "Epoch 73/100\n",
            "10/10 [==============================] - 0s 17ms/step - root_mean_squared_error: 0.8887 - loss: 0.7910 - regularization_loss: 0.0000e+00 - total_loss: 0.7910\n",
            "Epoch 74/100\n",
            "10/10 [==============================] - 0s 17ms/step - root_mean_squared_error: 0.8887 - loss: 0.7910 - regularization_loss: 0.0000e+00 - total_loss: 0.7910\n",
            "Epoch 75/100\n",
            "10/10 [==============================] - 0s 23ms/step - root_mean_squared_error: 0.8917 - loss: 0.7961 - regularization_loss: 0.0000e+00 - total_loss: 0.7961\n",
            "Epoch 76/100\n",
            "10/10 [==============================] - 0s 16ms/step - root_mean_squared_error: 0.8957 - loss: 0.8025 - regularization_loss: 0.0000e+00 - total_loss: 0.8025\n",
            "Epoch 77/100\n",
            "10/10 [==============================] - 0s 19ms/step - root_mean_squared_error: 0.8910 - loss: 0.7944 - regularization_loss: 0.0000e+00 - total_loss: 0.7944\n",
            "Epoch 78/100\n",
            "10/10 [==============================] - 0s 18ms/step - root_mean_squared_error: 0.8879 - loss: 0.7893 - regularization_loss: 0.0000e+00 - total_loss: 0.7893\n",
            "Epoch 79/100\n",
            "10/10 [==============================] - 0s 24ms/step - root_mean_squared_error: 0.8867 - loss: 0.7875 - regularization_loss: 0.0000e+00 - total_loss: 0.7875\n",
            "Epoch 80/100\n",
            "10/10 [==============================] - 0s 19ms/step - root_mean_squared_error: 0.8866 - loss: 0.7877 - regularization_loss: 0.0000e+00 - total_loss: 0.7877\n",
            "Epoch 81/100\n",
            "10/10 [==============================] - 0s 18ms/step - root_mean_squared_error: 0.8895 - loss: 0.7936 - regularization_loss: 0.0000e+00 - total_loss: 0.7936\n",
            "Epoch 82/100\n",
            "10/10 [==============================] - 0s 13ms/step - root_mean_squared_error: 0.8934 - loss: 0.7999 - regularization_loss: 0.0000e+00 - total_loss: 0.7999\n",
            "Epoch 83/100\n",
            "10/10 [==============================] - 0s 14ms/step - root_mean_squared_error: 0.8897 - loss: 0.7929 - regularization_loss: 0.0000e+00 - total_loss: 0.7929\n",
            "Epoch 84/100\n",
            "10/10 [==============================] - 0s 14ms/step - root_mean_squared_error: 0.8867 - loss: 0.7875 - regularization_loss: 0.0000e+00 - total_loss: 0.7875\n",
            "Epoch 85/100\n",
            "10/10 [==============================] - 0s 14ms/step - root_mean_squared_error: 0.8855 - loss: 0.7853 - regularization_loss: 0.0000e+00 - total_loss: 0.7853\n",
            "Epoch 86/100\n",
            "10/10 [==============================] - 0s 15ms/step - root_mean_squared_error: 0.8849 - loss: 0.7842 - regularization_loss: 0.0000e+00 - total_loss: 0.7842\n",
            "Epoch 87/100\n",
            "10/10 [==============================] - 0s 13ms/step - root_mean_squared_error: 0.8846 - loss: 0.7838 - regularization_loss: 0.0000e+00 - total_loss: 0.7838\n",
            "Epoch 88/100\n",
            "10/10 [==============================] - 0s 14ms/step - root_mean_squared_error: 0.8848 - loss: 0.7843 - regularization_loss: 0.0000e+00 - total_loss: 0.7843\n",
            "Epoch 89/100\n",
            "10/10 [==============================] - 0s 18ms/step - root_mean_squared_error: 0.8860 - loss: 0.7867 - regularization_loss: 0.0000e+00 - total_loss: 0.7867\n",
            "Epoch 90/100\n",
            "10/10 [==============================] - 0s 13ms/step - root_mean_squared_error: 0.8871 - loss: 0.7885 - regularization_loss: 0.0000e+00 - total_loss: 0.7885\n",
            "Epoch 91/100\n",
            "10/10 [==============================] - 0s 14ms/step - root_mean_squared_error: 0.8860 - loss: 0.7863 - regularization_loss: 0.0000e+00 - total_loss: 0.7863\n",
            "Epoch 92/100\n",
            "10/10 [==============================] - 0s 14ms/step - root_mean_squared_error: 0.8841 - loss: 0.7828 - regularization_loss: 0.0000e+00 - total_loss: 0.7828\n",
            "Epoch 93/100\n",
            "10/10 [==============================] - 0s 14ms/step - root_mean_squared_error: 0.8827 - loss: 0.7802 - regularization_loss: 0.0000e+00 - total_loss: 0.7802\n",
            "Epoch 94/100\n",
            "10/10 [==============================] - 0s 13ms/step - root_mean_squared_error: 0.8818 - loss: 0.7785 - regularization_loss: 0.0000e+00 - total_loss: 0.7785\n",
            "Epoch 95/100\n",
            "10/10 [==============================] - 0s 13ms/step - root_mean_squared_error: 0.8812 - loss: 0.7773 - regularization_loss: 0.0000e+00 - total_loss: 0.7773\n",
            "Epoch 96/100\n",
            "10/10 [==============================] - 0s 13ms/step - root_mean_squared_error: 0.8808 - loss: 0.7765 - regularization_loss: 0.0000e+00 - total_loss: 0.7765\n",
            "Epoch 97/100\n",
            "10/10 [==============================] - 0s 13ms/step - root_mean_squared_error: 0.8812 - loss: 0.7771 - regularization_loss: 0.0000e+00 - total_loss: 0.7771\n",
            "Epoch 98/100\n",
            "10/10 [==============================] - 0s 17ms/step - root_mean_squared_error: 0.8850 - loss: 0.7838 - regularization_loss: 0.0000e+00 - total_loss: 0.7838\n",
            "Epoch 99/100\n",
            "10/10 [==============================] - 0s 15ms/step - root_mean_squared_error: 0.8876 - loss: 0.7874 - regularization_loss: 0.0000e+00 - total_loss: 0.7874\n",
            "Epoch 100/100\n",
            "10/10 [==============================] - 0s 14ms/step - root_mean_squared_error: 0.8824 - loss: 0.7787 - regularization_loss: 0.0000e+00 - total_loss: 0.7787\n"
          ]
        },
        {
          "data": {
            "text/plain": [
              "<keras.src.callbacks.History at 0x1678e03d0>"
            ]
          },
          "execution_count": 26,
          "metadata": {},
          "output_type": "execute_result"
        }
      ],
      "source": [
        "model.fit(cached_train, epochs=100,callbacks=[tensorboard_callback])"
      ]
    },
    {
      "cell_type": "markdown",
      "metadata": {
        "id": "YsluR8audV9W"
      },
      "source": [
        "As the model trains, the loss is falling and the RMSE metric is improving."
      ]
    },
    {
      "cell_type": "markdown",
      "metadata": {
        "id": "7Gxp5RLFcv64"
      },
      "source": [
        "Finally, we can evaluate our model on the test set:"
      ]
    },
    {
      "cell_type": "code",
      "execution_count": 27,
      "metadata": {
        "id": "W-zu6HLODNeI"
      },
      "outputs": [
        {
          "name": "stdout",
          "output_type": "stream",
          "text": [
            "5/5 [==============================] - 1s 6ms/step - root_mean_squared_error: 0.9216 - loss: 0.8507 - regularization_loss: 0.0000e+00 - total_loss: 0.8507\n"
          ]
        },
        {
          "data": {
            "text/plain": [
              "{'root_mean_squared_error': 0.9216275215148926,\n",
              " 'loss': 0.856576144695282,\n",
              " 'regularization_loss': 0,\n",
              " 'total_loss': 0.856576144695282}"
            ]
          },
          "execution_count": 27,
          "metadata": {},
          "output_type": "execute_result"
        }
      ],
      "source": [
        "model.evaluate(cached_test, return_dict=True)"
      ]
    },
    {
      "cell_type": "markdown",
      "metadata": {
        "id": "JKZyP9A1dxit"
      },
      "source": [
        "The lower the RMSE metric, the more accurate our model is at predicting ratings."
      ]
    },
    {
      "cell_type": "markdown",
      "metadata": {
        "id": "hfedFnhBZiGw"
      },
      "source": [
        "## Exporting for serving\n",
        "\n",
        "The model can be easily exported for serving:\n"
      ]
    },
    {
      "cell_type": "code",
      "execution_count": 29,
      "metadata": {
        "id": "qjLDKn5VZqm8"
      },
      "outputs": [
        {
          "name": "stdout",
          "output_type": "stream",
          "text": [
            "INFO:tensorflow:Assets written to: exported-ranking/123/assets\n"
          ]
        },
        {
          "name": "stderr",
          "output_type": "stream",
          "text": [
            "INFO:tensorflow:Assets written to: exported-ranking/123/assets\n"
          ]
        }
      ],
      "source": [
        "tf.saved_model.save(model, \"exported-ranking/123\")"
      ]
    },
    {
      "cell_type": "markdown",
      "metadata": {
        "id": "gcSUJQQCuSYG"
      },
      "source": [
        "\n",
        "We will deploy the model with TensorFlow Serving soon."
      ]
    },
    {
      "cell_type": "code",
      "execution_count": 30,
      "metadata": {
        "id": "LIlXJD-huRHB"
      },
      "outputs": [
        {
          "name": "stdout",
          "output_type": "stream",
          "text": [
            "  adding: exported-ranking/ (stored 0%)\n",
            "  adding: exported-ranking/123/ (stored 0%)\n",
            "  adding: exported-ranking/123/fingerprint.pb (stored 0%)\n",
            "  adding: exported-ranking/123/variables/ (stored 0%)\n",
            "  adding: exported-ranking/123/variables/variables.data-00000-of-00001 (deflated 19%)\n",
            "  adding: exported-ranking/123/variables/variables.index (deflated 62%)\n",
            "  adding: exported-ranking/123/saved_model.pb (deflated 80%)\n",
            "  adding: exported-ranking/123/assets/ (stored 0%)\n"
          ]
        }
      ],
      "source": [
        "# Zip the SavedModel folder for easier download\n",
        "!zip -r exported-ranking.zip exported-ranking/ "
      ]
    },
    {
      "cell_type": "code",
      "execution_count": 32,
      "metadata": {},
      "outputs": [
        {
          "name": "stdout",
          "output_type": "stream",
          "text": [
            "Ratings:\n",
            "Dances with Wolves (1990): [[4.104224]]\n",
            "Speed (1994): [[3.8703105]]\n",
            "M*A*S*H (1970): [[3.868439]]\n"
          ]
        }
      ],
      "source": [
        "test_ratings = {}\n",
        "test_movie_titles = [\"M*A*S*H (1970)\", \"Dances with Wolves (1990)\", \"Speed (1994)\"]\n",
        "for movie_title in test_movie_titles:\n",
        "  test_ratings[movie_title] = model({\n",
        "      \"user_id\": np.array([\"42\"]),\n",
        "      \"movie_title\": np.array([movie_title])\n",
        "  })\n",
        "\n",
        "print(\"Ratings:\")\n",
        "for title, score in sorted(test_ratings.items(), key=lambda x: x[1], reverse=True):\n",
        "  print(f\"{title}: {score}\")"
      ]
    },
    {
      "cell_type": "code",
      "execution_count": null,
      "metadata": {},
      "outputs": [],
      "source": []
    }
  ],
  "metadata": {
    "colab": {
      "collapsed_sections": [],
      "name": "ranking.ipynb",
      "private_outputs": true,
      "provenance": []
    },
    "kernelspec": {
      "display_name": "Python 3.11.7 ('movie')",
      "language": "python",
      "name": "python3"
    },
    "language_info": {
      "codemirror_mode": {
        "name": "ipython",
        "version": 3
      },
      "file_extension": ".py",
      "mimetype": "text/x-python",
      "name": "python",
      "nbconvert_exporter": "python",
      "pygments_lexer": "ipython3",
      "version": "3.11.7"
    },
    "vscode": {
      "interpreter": {
        "hash": "1239159889ab0143dbb8c0c561ace50da98a21ffa836f9c0834cc8d511dd1c78"
      }
    }
  },
  "nbformat": 4,
  "nbformat_minor": 0
}
